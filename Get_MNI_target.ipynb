{
 "cells": [
  {
   "cell_type": "markdown",
   "id": "04b0975b",
   "metadata": {},
   "source": [
    "This notebook takes time series of rs-fMRI (nifti format) and returns the best target (MNI coordinates) plus its associated cluster with a vizualisation plot\n",
    "\n",
    "Input :\n",
    "- Image (the time series, Nifti format)\n",
    "- frontal_mask_img (the dlPFC mask you want to use, Nifti format)\n",
    "- seed_mask_img (the sgACC or any other seed you want to use, Nifti format)\n",
    "\n",
    "Output :\n",
    "- best_target : the target in MNI coordinates\n",
    "- the cluster : 3D numpy array"
   ]
  },
  {
   "cell_type": "markdown",
   "id": "4ab56a2d",
   "metadata": {},
   "source": [
    "# 0. Initialization"
   ]
  },
  {
   "cell_type": "code",
   "execution_count": null,
   "id": "c64a63af",
   "metadata": {},
   "outputs": [],
   "source": [
    "import nibabel as nib\n",
    "import numpy as np\n",
    "import os\n",
    "import nilearn\n",
    "import numpy as np\n",
    "import matplotlib.pyplot as plt\n",
    "import nibabel as nib\n",
    "import pandas as pd\n",
    "import time\n",
    "from nibabel import imagestats\n",
    "from nilearn import datasets, plotting, surface, image, masking\n",
    "from nilearn.maskers import NiftiSpheresMasker, NiftiMasker\n",
    "from nilearn.surface import vol_to_surf\n",
    "from nilearn.datasets import get_data_dirs\n",
    "from nilearn.plotting import plot_epi,plot_roi,show\n",
    "from plotly import graph_objects as go\n",
    "from nilearn import plotting, surface, datasets\n",
    "from nilearn import surface\n",
    "from nilearn import plotting\n",
    "from matplotlib.colors import ListedColormap,LinearSegmentedColormap\n",
    "from nilearn.image import mean_img, math_img\n",
    "from nilearn.plotting import plot_prob_atlas\n",
    "from matplotlib import patches, ticker\n",
    "from nilearn import datasets, plotting\n",
    "from nilearn.image import get_data, index_img, mean_img\n",
    "from nilearn.regions import Parcellations\n",
    "from nilearn.plotting import view_img\n",
    "from scipy.sparse import coo_matrix\n",
    "import math\n",
    "from nilearn.masking import compute_epi_mask"
   ]
  },
  {
   "cell_type": "markdown",
   "id": "4294dfb2",
   "metadata": {},
   "source": [
    "# I. Import the image (NIFTI format)"
   ]
  },
  {
   "cell_type": "code",
   "execution_count": null,
   "id": "45253a3f",
   "metadata": {},
   "outputs": [],
   "source": [
    "Image = nib.load('your_file')\n",
    "\n",
    "frontal_mask_img = nib.load('MaskJulich.nii') \n",
    "seed_mask_img = nib.load('SeedMask.nii') "
   ]
  },
  {
   "cell_type": "code",
   "execution_count": null,
   "id": "0079a37d",
   "metadata": {},
   "outputs": [],
   "source": [
    "# Import real target\n",
    "Real_Target = np.array([-41, 43, 27]) # for plotting real to optimal "
   ]
  },
  {
   "cell_type": "markdown",
   "id": "e58c6071",
   "metadata": {},
   "source": [
    "# II. Give your pipeline"
   ]
  },
  {
   "cell_type": "code",
   "execution_count": null,
   "id": "9ec6a019",
   "metadata": {},
   "outputs": [],
   "source": [
    "import ClusterFunctions\n",
    "from sklearn.decomposition import PCA"
   ]
  },
  {
   "cell_type": "code",
   "execution_count": null,
   "id": "b911337c",
   "metadata": {
    "scrolled": true
   },
   "outputs": [],
   "source": [
    "def Pipeline(brain_time_series,inverted_FCmap,plot_fc_map,noise,verbose) :\n",
    "    \"\"\"\n",
    "    Apply pipeline from the FC_map to the recommended target.\n",
    "    You can design your own pipeline using the function in \"ClusterFunctions\"\n",
    "\n",
    "    Output:\n",
    "        numpy array: Array with noise added to each time series.\n",
    "    \"\"\"\n",
    "    # CONSENSUS\n",
    "    #consensus_cluster = ClusterFunctions.extract(inverted_FCmap,niimg,frontal_mask_img,6,verbose = True)\n",
    "    consensus_cluster = ClusterFunctions.consensus_fwhm(inverted_FCmap,niimg,frontal_mask_img,fwhm1=3,fwhm2=9,verb=True)\n",
    "\n",
    "    # BAGGING STRATEGY\n",
    "    bagging_cluster = ClusterFunctions.bagging_overlap(brain_time_series, niimg,frontal_mask_img,brain_masker,SgACC_time_serie,noise,True,fwhm1=3,fwhm2=9,perc=0.7,n=5)\n",
    "    final_cluster =  bagging_cluster * consensus_cluster\n",
    "    \n",
    "    print('Size final cluster : ', np.count_nonzero(final_cluster))\n",
    "    final_target = ClusterFunctions.get_center(final_cluster,plot_fc_map.affine) #np.mean([best_consensus_target,bagging_best_target],0)\n",
    "    # Apply PCA to reduce dimensionality\n",
    "    flattened_arr = final_cluster.reshape(-1, final_cluster.shape[-1])\n",
    "    pca = PCA(n_components=1)\n",
    "    reduced_arr = pca.fit_transform(flattened_arr)\n",
    "\n",
    "    return np.ceil(final_target).astype(int),reduced_arr,final_cluster"
   ]
  },
  {
   "cell_type": "markdown",
   "id": "e2012cfa",
   "metadata": {},
   "source": [
    "# III. RUN PIPELINE"
   ]
  },
  {
   "cell_type": "code",
   "execution_count": null,
   "id": "4b2423aa",
   "metadata": {},
   "outputs": [],
   "source": [
    "FC_type = 'median' #'mean' #choose the FC-map strategy\n",
    "n_noisy = 100"
   ]
  },
  {
   "cell_type": "code",
   "execution_count": null,
   "id": "5b19df6f",
   "metadata": {},
   "outputs": [],
   "source": [
    "niimg = datasets.load_mni152_template()\n",
    "bin_niimg = nilearn.image.binarize_img(niimg)\n",
    "SgACC_coords = [(-4,21,-8)]\n",
    "brain_masker = NiftiMasker(mask_img=frontal_mask_img, smoothing_fwhm=1, detrend=True, \n",
    "            standardize='zscore_sample', low_pass=0.1, high_pass=0.01, t_r=2, verbose=0)\n",
    "seed_masker = NiftiMasker(mask_img=seed_mask_img, smoothing_fwhm=1, detrend=True, \n",
    "            standardize='zscore_sample', low_pass=0.1, high_pass=0.01, t_r=2, verbose=0)"
   ]
  },
  {
   "cell_type": "code",
   "execution_count": null,
   "id": "b0fa3e50",
   "metadata": {
    "scrolled": true
   },
   "outputs": [],
   "source": [
    "SgACC_time_series= seed_masker.fit_transform(Images[i])\n",
    "SgACC_time_serie = np.median(SgACC_time_series, axis=1).reshape(-1, 1)\n",
    "\n",
    "brain_time_series = brain_masker.fit_transform(Images[i])\n",
    "if FC_type == 'median':\n",
    "    correlation_matrix = SgACC_time_serie * brain_time_series\n",
    "    flatten_fc_map = np.median(correlation_matrix, axis=0).reshape(-1, 1)\n",
    "elif FC_type == 'mean':\n",
    "    flatten_fc_map = (np.dot(brain_time_series.T, SgACC_time_serie) / SgACC_time_serie.shape[0]) # ! renversée\n",
    "\n",
    "inverted_fc_map = brain_masker.inverse_transform(-flatten_fc_map.T)\n",
    "real_fc_map = brain_masker.inverse_transform(flatten_fc_map.T) # not inverted values\n",
    "# APPLY PIPELINE ON DATA\n",
    "\n",
    "expected_target,_,final_cluster = Pipeline(brain_time_series,inverted_fc_map,real_fc_map,False,False)\n",
    "\n",
    "\n",
    "print(expected_target)\n"
   ]
  },
  {
   "cell_type": "code",
   "execution_count": null,
   "id": "0db2e108",
   "metadata": {},
   "outputs": [],
   "source": [
    "#Plot the target on the dlPFC mask\n",
    "fsaverage = datasets.fetch_surf_fsaverage()\n",
    "curv_left = surface.load_surf_data(fsaverage.curv_left)\n",
    "curv_left_sign = np.sign(curv_left)\n",
    "texture = surface.vol_to_surf(frontal_mask_img, fsaverage.pial_left)\n",
    "\n",
    "pial = fsaverage.pial_left\n",
    "coord = np.array([-41, 43, 27])\n",
    "\n",
    "mesh_coords = np.array(nib.load(pial).darrays[0].data)\n",
    "\n",
    "diff = mesh_coords - expected_target\n",
    "sq_distance = np.sum(diff**2, 1)\n",
    "closest = np.argsort(sq_distance)[:3]\n",
    "parcellation = np.zeros(texture.shape)\n",
    "parcellation[closest] = 1\n",
    "\n",
    "fig = plotting.plot_surf_stat_map(surf_mesh = fsaverage.infl_left, stat_map=texture,hemi='left', view=[10.0, 120.0],title='Optimal target on dlPFC mask',engine = 'matplotlib', cmap = 'seismic')\n",
    "fig_finale=plotting.plot_surf_contours(fsaverage.infl_left, parcellation2, labels=['roi'], levels=[1], figure=fig_bis, legend=False, colors=['c'])\n",
    "fig_finale.show()\n"
   ]
  }
 ],
 "metadata": {
  "kernelspec": {
   "display_name": "Python 3 (ipykernel)",
   "language": "python",
   "name": "python3"
  },
  "language_info": {
   "codemirror_mode": {
    "name": "ipython",
    "version": 3
   },
   "file_extension": ".py",
   "mimetype": "text/x-python",
   "name": "python",
   "nbconvert_exporter": "python",
   "pygments_lexer": "ipython3",
   "version": "3.9.13"
  }
 },
 "nbformat": 4,
 "nbformat_minor": 5
}
